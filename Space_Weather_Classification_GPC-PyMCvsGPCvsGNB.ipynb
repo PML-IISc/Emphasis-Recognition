{
 "cells": [
  {
   "cell_type": "markdown",
   "id": "0364a2a1",
   "metadata": {},
   "source": [
    "<h1 style=\"font-weight: bold; font-size: 30px;\">             Geomagnetic Storm Severity Classification</h1>\n"
   ]
  },
  {
   "cell_type": "markdown",
   "id": "bda9c2d6",
   "metadata": {},
   "source": [
    "## Introduction\n",
    "This notebook demonstrates loading a dataset, preprocessing, applying PCA for dimensionality reduction, training Gaussian Process Model in PyMC, Gaussian Process Model, Gaussian Naive Bayes, predict using all thes models & also evaluating performences for all these. In addition to that we did Binary calsification using Logistic Regression and Clustering with Gaussian Mixture Model using different targets under differnt notebooks to avoid library/complexity issues with PyMC. In total we used 5 models"
   ]
  },
  {
   "cell_type": "code",
   "execution_count": 2,
   "id": "357fc988-13ad-4625-85d7-371d3d753810",
   "metadata": {},
   "outputs": [],
   "source": [
    "!conda activate pymc3_env"
   ]
  },
  {
   "cell_type": "code",
   "execution_count": 1,
   "id": "8b80bfa1",
   "metadata": {},
   "outputs": [
    {
     "name": "stderr",
     "output_type": "stream",
     "text": [
      "WARNING (theano.tensor.blas): Using NumPy C-API based implementation for BLAS functions.\n"
     ]
    }
   ],
   "source": [
    "import pandas as pd\n",
    "import numpy as np\n",
    "import matplotlib.pyplot as plt\n",
    "import seaborn as sns\n",
    "from sklearn.preprocessing import StandardScaler, LabelEncoder\n",
    "from sklearn.model_selection import train_test_split\n",
    "from sklearn.metrics import classification_report, confusion_matrix, roc_curve, auc, accuracy_score, mean_squared_error\n",
    "from sklearn.decomposition import PCA\n",
    "from sklearn.cluster import KMeans\n",
    "from sklearn.metrics import silhouette_score\n",
    "from sklearn.linear_model import LogisticRegression\n",
    "import pymc3 as pm\n",
    "import arviz as az\n",
    "from sklearn.mixture import GaussianMixture\n",
    "import multiprocessing\n",
    "from sklearn.naive_bayes import GaussianNB\n",
    "from sklearn.gaussian_process import GaussianProcessClassifier\n",
    "import warnings\n",
    "warnings.filterwarnings(\"ignore\")"
   ]
  },
  {
   "cell_type": "code",
   "execution_count": 2,
   "id": "848e1c03-9d11-4362-86e8-155da37bac9c",
   "metadata": {},
   "outputs": [
    {
     "name": "stdout",
     "output_type": "stream",
     "text": [
      "Index(['DATE', 'BSRN', 'ND', 'KP_SUM', 'AP_AVG', 'CP', 'C9', 'ISN',\n",
      "       'F10.7_OBS', 'F10.7_ADJ', 'KP1', 'AP1', 'KP2', 'AP2', 'KP3', 'AP3',\n",
      "       'KP4', 'AP4', 'KP5', 'AP5', 'KP6', 'AP6', 'KP7', 'AP7', 'KP8', 'AP8',\n",
      "       'F10.7_OBS_CENTER81', 'F10.7_OBS_LAST81', 'F10.7_ADJ_CENTER81',\n",
      "       'F10.7_ADJ_LAST81', 'F10.7_DATA_TYPE', 'Geomagnetic_Storm',\n",
      "       'Solar_Flare_Detection', 'Activity_Type'],\n",
      "      dtype='object')\n"
     ]
    }
   ],
   "source": [
    "space_weather_df = pd.read_csv('Space_Weather.csv')\n",
    "print(space_weather_df.columns)\n",
    "dtype = {\n",
    "    'BSRN': 'float32', \n",
    "    'ND': 'float32', \n",
    "    'KP_SUM': 'float32', \n",
    "    'AP_AVG': 'float32',\n",
    "    'CP': 'float32', \n",
    "    'C9': 'float32', \n",
    "    'ISN': 'float32', \n",
    "    'F10.7_OBS': 'float32',\n",
    "    'F10.7_ADJ': 'float32', \n",
    "    'F10.7_OBS_CENTER81': 'float32', \n",
    "    'F10.7_OBS_LAST81': 'float32',\n",
    "    'F10.7_ADJ_CENTER81': 'float32', \n",
    "    'F10.7_ADJ_LAST81': 'float32',\n",
    "    'F10.7_DATA_TYPE': 'category',\n",
    "    'Geomagnetic_Storm': 'category',\n",
    "    'Solar_Flare_Detection': 'int32',\n",
    "    'Activity_Type': 'category'\n",
    "}\n",
    "\n",
    "space_weather_df['DATE'] = pd.to_datetime(space_weather_df['DATE'], dayfirst=True)\n",
    "space_weather_df = space_weather_df.astype(dtype)\n"
   ]
  },
  {
   "cell_type": "code",
   "execution_count": 3,
   "id": "049c652f",
   "metadata": {},
   "outputs": [
    {
     "name": "stdout",
     "output_type": "stream",
     "text": [
      "         DATE  BSRN        ND    KP_SUM    AP_AVG        CP        C9  \\\n",
      "0  01-01-2000  0.42  0.462380  0.499399  0.960782  0.648720  0.144274   \n",
      "1  02-01-2000  0.58  0.430591  0.932934  0.078520  0.558700  0.469506   \n",
      "2  03-01-2000  0.32  0.490096  0.212742  0.281228  0.613091  0.975808   \n",
      "3  04-01-2000  0.52  0.483932  0.364209  0.494099  0.887551  0.247206   \n",
      "4  05-01-2000  0.64  0.253961  0.329851  0.170308  0.868245  0.703101   \n",
      "\n",
      "        ISN   F10.7_OBS   F10.7_ADJ  ...       KP8        AP8  \\\n",
      "0  0.412698  104.100138  137.692459  ...  0.151015  67.191521   \n",
      "1  0.349206  116.006524   95.218696  ...  2.696456   3.577513   \n",
      "2  0.507937  144.873803   94.712034  ...  3.953092  57.538329   \n",
      "3  0.666667  129.061898  166.211364  ...  4.916377  41.797592   \n",
      "4  0.507937  150.901631  120.484369  ...  6.145471  23.716346   \n",
      "\n",
      "   F10.7_OBS_CENTER81  F10.7_OBS_LAST81  F10.7_ADJ_CENTER81  F10.7_ADJ_LAST81  \\\n",
      "0          171.774873        151.169491           74.792538        169.436507   \n",
      "1          132.931129        114.754349          118.589539         98.112994   \n",
      "2          122.676065        113.776257           84.356818         75.247755   \n",
      "3          149.396734        101.945700           94.889158        154.819474   \n",
      "4           89.328718        107.283034          126.684176        127.173863   \n",
      "\n",
      "   F10.7_DATA_TYPE  Geomagnetic_Storm  Solar_Flare_Detection  Activity_Type  \n",
      "0              PRD             Severe                      0           High  \n",
      "1              OBS             Severe                      1            Low  \n",
      "2              INT               Mild                      0         Medium  \n",
      "3              OBS           Moderate                      1           High  \n",
      "4              INT           Moderate                      1           High  \n",
      "\n",
      "[5 rows x 34 columns]\n"
     ]
    }
   ],
   "source": [
    "# Load the dataset\n",
    "space_weather_df = pd.read_csv('Space_Weather.csv')\n",
    "print(space_weather_df.head())"
   ]
  },
  {
   "cell_type": "code",
   "execution_count": 4,
   "id": "b3b126ba-3648-4cac-a0b2-68d72fd05fcb",
   "metadata": {},
   "outputs": [],
   "source": [
    "# Converting and encoding categorical variables for probabilistic analysis\n",
    "space_weather_df['DATE'] = pd.to_datetime(space_weather_df['DATE'], format='%d-%m-%Y') \n",
    "space_weather_df['F10.7_DATA_TYPE'] = pd.Categorical(space_weather_df['F10.7_DATA_TYPE'])\n",
    "space_weather_df['Geomagnetic_Storm'] = pd.Categorical(space_weather_df['Geomagnetic_Storm'])\n",
    "space_weather_df['Activity_Type'] = LabelEncoder().fit_transform(space_weather_df['Activity_Type'])"
   ]
  },
  {
   "cell_type": "code",
   "execution_count": 5,
   "id": "38a9b6a0",
   "metadata": {},
   "outputs": [],
   "source": [
    "# Defining features to normalize\n",
    "features_to_normalize = ['BSRN', 'ND', 'KP_SUM', 'AP_AVG', 'CP', 'C9', 'ISN', 'F10.7_OBS', 'F10.7_ADJ']"
   ]
  },
  {
   "cell_type": "code",
   "execution_count": 6,
   "id": "fc236685-f06c-4871-aca8-c36feae57eab",
   "metadata": {},
   "outputs": [],
   "source": [
    "# Splitting the data\n",
    "X_reg = space_weather_df[features_to_normalize]\n",
    "y_reg = space_weather_df['Geomagnetic_Storm'].cat.codes\n",
    "X_train_reg, X_test_reg, y_train_reg, y_test_reg = train_test_split(X_reg, y_reg, test_size=0.2, random_state=42)\n",
    "\n",
    "# Normalizing numerical features\n",
    "scaler = StandardScaler()\n",
    "X_train_reg = scaler.fit_transform(X_train_reg)\n",
    "X_test_reg = scaler.transform(X_test_reg)"
   ]
  },
  {
   "cell_type": "code",
   "execution_count": 7,
   "id": "ad6657d5-c5f4-4ec2-9852-da3672223dc5",
   "metadata": {},
   "outputs": [],
   "source": [
    "# Apply dimension Reduction using PCA\n",
    "pca = PCA(n_components=0.99)\n",
    "X_train_pca = pca.fit_transform(X_train_reg)\n",
    "X_test_pca = pca.transform(X_test_reg)"
   ]
  },
  {
   "cell_type": "code",
   "execution_count": null,
   "id": "b689ec94-23e1-4e98-b87d-7b4a2a6eb73b",
   "metadata": {},
   "outputs": [
    {
     "name": "stderr",
     "output_type": "stream",
     "text": [
      "Auto-assigning NUTS sampler...\n",
      "Initializing NUTS using jitter+adapt_diag...\n"
     ]
    }
   ],
   "source": [
    "# Defining Gaussian Process Model in PyMC - with less sample size due to complexity limitations/limited resources/execution time\n",
    "subset_indices = np.random.choice(X_train_pca.shape[0], size=500, replace=False)\n",
    "X_train_pca_subset = X_train_pca[subset_indices, :]\n",
    "y_train_reg_subset = y_train_reg.iloc[subset_indices]\n",
    "\n",
    "with pm.Model() as gp_model:\n",
    "    # Adjusting for PCA components - ℓ for each input dimension on the subset\n",
    "    ℓ = pm.Gamma(\"ℓ\", alpha=2, beta=1, shape=X_train_pca.shape[1])\n",
    "    \n",
    "    # Covariance function - Correctly specifying input_dim to match PCA components on the subset\n",
    "    cov = pm.gp.cov.ExpQuad(input_dim=X_train_pca.shape[1], ls=ℓ)\n",
    "    \n",
    "    # GP prior\n",
    "    gp = pm.gp.Marginal(cov_func=cov)\n",
    "    \n",
    "    # Noise term\n",
    "    σ = pm.HalfNormal(\"σ\", sigma=1)\n",
    "    \n",
    "    # The observed data, corrected for shape and using the subset\n",
    "    y_ = gp.marginal_likelihood(\"y_\", X=X_train_pca, y=y_train_reg, noise=σ)\n",
    "    \n",
    "    # Model fitting with progress bar, adjusted for the subset\n",
    "    with gp_model:\n",
    "        trace = pm.sample(500, return_inferencedata=True, progressbar=True, target_accept=0.95)"
   ]
  },
  {
   "cell_type": "code",
   "execution_count": 43,
   "id": "75ac1d80-afba-4645-8936-956a0677f561",
   "metadata": {},
   "outputs": [],
   "source": [
    "# Extracting learned parameters from the trace\n",
    "ℓ_learned = np.mean(trace.posterior['ℓ'].values)\n",
    "σ_learned = np.mean(trace.posterior['σ'].values)\n",
    "\n",
    "def eq_kernel(X1, X2, ℓ=1.0, σ_var=1.0):\n",
    "    \"\"\"Exponential Quadratic kernel function.\"\"\"\n",
    "    sqdist = np.sum(X1**2, 1).reshape(-1, 1) + np.sum(X2**2, 1) - 2 * np.dot(X1, X2.T)\n",
    "    return σ_var * np.exp(-0.5 / ℓ**2 * sqdist)\n",
    "\n",
    "# Compute the kernel matrices\n",
    "K = eq_kernel(X_train_pca_subset, X_train_pca_subset, ℓ=ℓ_learned, σ_var=1.0) + σ_learned**2 * np.eye(len(X_train_pca_subset))\n",
    "K_s = eq_kernel(X_train_pca_subset, X_test_pca, ℓ=ℓ_learned, σ_var=1.0)\n",
    "K_ss = eq_kernel(X_test_pca, X_test_pca, ℓ=ℓ_learned, σ_var=1.0)\n",
    "K_inv = np.linalg.inv(K)\n",
    "\n",
    "# Compute the predictive mean\n",
    "mu_s = K_s.T.dot(K_inv).dot(y_train_reg_subset)\n",
    "\n",
    "# Compute the predictive variance\n",
    "var_s = np.diag(K_ss) - np.einsum('ij,jk,ki->i', K_s.T, K_inv, K_s)\n",
    "\n",
    "# Assuming a binary classification with a threshold at 0.5\n",
    "predictions = (mu_s > 0.5).astype(int)\n"
   ]
  },
  {
   "cell_type": "code",
   "execution_count": 44,
   "id": "6806c4fe-b239-4a9a-8b82-c97b2fc1cb76",
   "metadata": {},
   "outputs": [
    {
     "name": "stdout",
     "output_type": "stream",
     "text": [
      "Accuracy: 0.3177200902934537\n",
      "              precision    recall  f1-score   support\n",
      "\n",
      "           0       1.00      0.68      0.81       506\n",
      "           1       0.15      1.00      0.27       219\n",
      "           2       0.00      0.00      0.00      1047\n",
      "\n",
      "    accuracy                           0.32      1772\n",
      "   macro avg       0.38      0.56      0.36      1772\n",
      "weighted avg       0.30      0.32      0.26      1772\n",
      "\n"
     ]
    }
   ],
   "source": [
    "# Gaussian Process Model with PyMC - Predictions \n",
    "accuracy = accuracy_score(y_test_reg, predictions)\n",
    "print(f\"Accuracy:\", accuracy)\n",
    "print(classification_report(y_test_reg, predictions))"
   ]
  },
  {
   "cell_type": "code",
   "execution_count": 46,
   "id": "c26168c7-9165-4da9-aa51-99b6351aad45",
   "metadata": {},
   "outputs": [],
   "source": [
    "# Gaussian Process Model not in PyMC - Predictions \n",
    "gpc = GaussianProcessClassifier().fit(X_train_pca, y_train_reg)\n",
    "y_pred_gpc = gpc.predict(X_test_pca)"
   ]
  },
  {
   "cell_type": "code",
   "execution_count": 47,
   "id": "f0c609a1-f245-45af-9806-687cf4d27092",
   "metadata": {},
   "outputs": [],
   "source": [
    "# Gaussian Naive Bayes not in PyMC - Predictions \n",
    "gnb_model = GaussianNB().fit(X_train_pca, y_train_reg)\n",
    "y_pred_gnb = gnb_model.predict(X_test_pca)"
   ]
  },
  {
   "cell_type": "code",
   "execution_count": 52,
   "id": "67a9b126-ab05-4d52-a7f8-f491ab38a4c4",
   "metadata": {},
   "outputs": [
    {
     "name": "stdout",
     "output_type": "stream",
     "text": [
      "      Metric  GPC - PyMC       GPC  GaussianNB\n",
      "0   Accuracy    0.317720  0.911964    0.875282\n",
      "1  Precision    0.304507  0.914680    0.767367\n",
      "2     Recall    0.317720  0.911964    0.875282\n",
      "3   F1-Score    0.263997  0.892949    0.817718\n"
     ]
    },
    {
     "data": {
      "image/png": "[encoded data removed]",
      "text/plain": [
       "<Figure size 1200x800 with 1 Axes>"
      ]
     },
     "metadata": {},
     "output_type": "display_data"
    }
   ],
   "source": [
    "# Model comparison : GPC - PyMC vs GPC vs GaussianNB\n",
    "metrics_gpc_pymc = precision_recall_fscore_support(y_test_reg, predictions, average='weighted')\n",
    "metrics_gpc = precision_recall_fscore_support(y_test_reg, y_pred_gpc, average='weighted')\n",
    "metrics_gnb = precision_recall_fscore_support(y_test_reg, y_pred_gnb, average='weighted')\n",
    "metrics_df = pd.DataFrame({\n",
    "    'Metric': ['Accuracy', 'Precision', 'Recall', 'F1-Score'],\n",
    "    'GPC - PyMC': [accuracy_score(y_test_reg, predictions), metrics_gpc_pymc[0], metrics_gpc_pymc[1], metrics_gpc_pymc[2]],\n",
    "    'GPC': [accuracy_score(y_test_reg, y_pred_gpc), metrics_gpc[0], metrics_gpc[1], metrics_gpc[2]],\n",
    "    'GaussianNB': [accuracy_score(y_test_reg, y_pred_gnb), metrics_gnb[0], metrics_gnb[1], metrics_gnb[2]]\n",
    "})\n",
    "print(metrics_df)\n",
    "\n",
    "# Compariosn plots \n",
    "sns.set_style(\"whitegrid\")\n",
    "metrics_melted_df = metrics_df.melt(id_vars=\"Metric\", var_name=\"Model\", value_name=\"Score\")\n",
    "plt.figure(figsize=(12, 8))\n",
    "sns.barplot(data=metrics_melted_df, x='Metric', y='Score', hue='Model', palette='viridis')\n",
    "plt.title('Model Comparison: GPC - PyMC vs GPC vs GaussianNB', fontsize=16)\n",
    "plt.xlabel('Metric', fontsize=14)\n",
    "plt.ylabel('Score', fontsize=14)\n",
    "plt.ylim(0, 1)  # Assuming scores are between 0 and 1\n",
    "plt.legend(title='Model')\n",
    "plt.show()"
   ]
  }
 ],
 "metadata": {
  "kernelspec": {
   "display_name": "Python 3 (ipykernel)",
   "language": "python",
   "name": "python3"
  },
  "language_info": {
   "codemirror_mode": {
    "name": "ipython",
    "version": 3
   },
   "file_extension": ".py",
   "mimetype": "text/x-python",
   "name": "python",
   "nbconvert_exporter": "python",
   "pygments_lexer": "ipython3",
   "version": "3.10.14"
  }
 },
 "nbformat": 4,
 "nbformat_minor": 5
}
